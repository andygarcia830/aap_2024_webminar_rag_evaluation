{
 "cells": [
  {
   "cell_type": "markdown",
   "metadata": {},
   "source": [
    "## RAG Evaluation Notebook\n",
    "by Andy Garcia\n"
   ]
  },
  {
   "cell_type": "markdown",
   "metadata": {},
   "source": [
    "For this notebook, we will use a sample HR Manual from this source:<br>\n",
    "https://www.icpau.co.ug/sites/default/files/Resources/SAMPLE%20HR%20MANUAL.pdf<br>\n",
    "It's already downloaded in the ./data directory."
   ]
  },
  {
   "cell_type": "markdown",
   "metadata": {},
   "source": [
    "### 1. RAG\n",
    "Let's start by learning how to use Retriever Augmented Generation (RAG). There are two ways we can go about this: via the LLM's native API or via an LLM agnostic framework. We will explore using OpenAI's native API and the Langchain framework. For both cases we will use OpenAI as the LLM for generation, so you will need a working OpenAI API key. Set the environment variable using the cell below. Reminder: DO NOT upload your API KEY to Git!!!"
   ]
  },
  {
   "cell_type": "code",
   "execution_count": null,
   "metadata": {},
   "outputs": [],
   "source": [
    "%env OPENAI_API_KEY=<YOUR API KEY HERE>"
   ]
  },
  {
   "cell_type": "code",
   "execution_count": null,
   "metadata": {},
   "outputs": [],
   "source": [
    "import os\n",
    "# Check if OPENAI_API_KEY is visible to the notebook\n",
    "OPENAI_API_KEY = os.environ['OPENAI_API_KEY']\n",
    "print(f'API KEY={OPENAI_API_KEY}')"
   ]
  },
  {
   "cell_type": "markdown",
   "metadata": {},
   "source": [
    "### 1a. OpenAI API"
   ]
  },
  {
   "cell_type": "code",
   "execution_count": null,
   "metadata": {},
   "outputs": [],
   "source": []
  },
  {
   "cell_type": "markdown",
   "metadata": {},
   "source": [
    "### 1b. Langchain"
   ]
  },
  {
   "cell_type": "markdown",
   "metadata": {},
   "source": [
    "### 2. LLM Evaluation\n",
    "There are several ways to evaluate the performance of RAG. Here, we will explore the Langchain Evaluator Framework"
   ]
  },
  {
   "cell_type": "markdown",
   "metadata": {},
   "source": [
    "### 3. LLM Evaulaion via Confusion Matrix\n",
    "Now we explore using the well-known Machine Learning method"
   ]
  }
 ],
 "metadata": {
  "kernelspec": {
   "display_name": "gpu",
   "language": "python",
   "name": "python3"
  },
  "language_info": {
   "codemirror_mode": {
    "name": "ipython",
    "version": 3
   },
   "file_extension": ".py",
   "mimetype": "text/x-python",
   "name": "python",
   "nbconvert_exporter": "python",
   "pygments_lexer": "ipython3",
   "version": "3.12.8"
  }
 },
 "nbformat": 4,
 "nbformat_minor": 2
}
