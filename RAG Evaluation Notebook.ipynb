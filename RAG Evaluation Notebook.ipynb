{
 "cells": [
  {
   "cell_type": "markdown",
   "metadata": {},
   "source": [
    "## RAG Evaluation Notebook\n",
    "by Andy Garcia\n"
   ]
  },
  {
   "cell_type": "markdown",
   "metadata": {},
   "source": [
    "For this notebook, we will use a sample HR Manual from this source:<br>\n",
    "https://www.icpau.co.ug/sites/default/files/Resources/SAMPLE%20HR%20MANUAL.pdf<br>\n",
    "It's already downloaded in the ./data directory."
   ]
  },
  {
   "cell_type": "markdown",
   "metadata": {},
   "source": [
    "### 1. RAG\n",
    "Let's start by learning how to use Retriever Augmented Generation (RAG). There are two ways we can go about this: via the LLM's native API or via an LLM agnostic framework. We will explore using OpenAI's native API and the Langchain framework. For both cases we will use OpenAI as the LLM for generation, so you will need a working OpenAI API key. Set the environment variable using the cell below. Reminder: DO NOT upload your API KEY to Git!!!"
   ]
  },
  {
   "cell_type": "code",
   "execution_count": null,
   "metadata": {},
   "outputs": [],
   "source": [
    "%env OPENAI_API_KEY=<YOUR API KEY HERE>"
   ]
  },
  {
   "cell_type": "code",
   "execution_count": null,
   "metadata": {},
   "outputs": [],
   "source": [
    "import os\n",
    "# Check if OPENAI_API_KEY is visible to the notebook\n",
    "OPENAI_API_KEY = os.environ['OPENAI_API_KEY']\n",
    "print(f'API KEY={OPENAI_API_KEY}')"
   ]
  },
  {
   "cell_type": "code",
   "execution_count": 79,
   "metadata": {},
   "outputs": [],
   "source": [
    "data_folder = './data'\n",
    "index_folder = './index'\n",
    "document_folder = './document'"
   ]
  },
  {
   "cell_type": "markdown",
   "metadata": {},
   "source": [
    "### 1.1. OpenAI API"
   ]
  },
  {
   "cell_type": "code",
   "execution_count": 78,
   "metadata": {},
   "outputs": [],
   "source": [
    "# !pip install openai"
   ]
  },
  {
   "cell_type": "code",
   "execution_count": 81,
   "metadata": {},
   "outputs": [
    {
     "name": "stdout",
     "output_type": "stream",
     "text": [
      "completed\n",
      "FileCounts(cancelled=0, completed=1, failed=0, in_progress=0, total=1)\n"
     ]
    }
   ],
   "source": [
    "from openai import OpenAI\n",
    "\n",
    "client = OpenAI()\n",
    "vector_store = client.beta.vector_stores.create(name=\"Employee Handbook\",\n",
    "                                                expires_after={\n",
    "                                                    \"anchor\": \"last_active_at\",\n",
    "                                                    \"days\": 1\n",
    "                                                })\n",
    "\n",
    "file_paths = [document_folder+'/SAMPLE HR MANUAL.pdf']\n",
    "file_streams = [open(path, \"rb\") for path in file_paths]\n",
    "\n",
    "file_batch = client.beta.vector_stores.file_batches.upload_and_poll(\n",
    "    vector_store_id=vector_store.id, files=file_streams\n",
    ")\n",
    "\n",
    "print(file_batch.status)\n",
    "print(file_batch.file_counts)\n"
   ]
  },
  {
   "cell_type": "code",
   "execution_count": null,
   "metadata": {},
   "outputs": [],
   "source": [
    "# Check the vector stores uploaded\n",
    "vector_stores = client.beta.vector_stores.list()\n",
    "for store in vector_stores:\n",
    "    print(store)"
   ]
  },
  {
   "cell_type": "code",
   "execution_count": 83,
   "metadata": {},
   "outputs": [],
   "source": [
    "vector_store = vector_stores.data[0]"
   ]
  },
  {
   "cell_type": "code",
   "execution_count": 85,
   "metadata": {},
   "outputs": [],
   "source": [
    "# Create an assistant\n",
    "\n",
    "instructions = \"You are an HR Assistant. If you don't have the answer from the document, refer them to directly contact HR\"\n",
    "\n",
    "assistant = client.beta.assistants.create(\n",
    "  name=\"HR Employee Chatbot\",\n",
    "  instructions=instructions,\n",
    "  tools=[{\"type\": \"file_search\"}],\n",
    "  model=\"gpt-4o\",\n",
    ")"
   ]
  },
  {
   "cell_type": "code",
   "execution_count": 86,
   "metadata": {},
   "outputs": [],
   "source": [
    "# add the vector store to the assistant\n",
    "\n",
    "assistant = client.beta.assistants.update(\n",
    "    assistant_id=assistant.id,\n",
    "    tool_resources={'file_search': {'vector_store_ids': [vector_store.id]}}\n",
    ")\n"
   ]
  },
  {
   "cell_type": "code",
   "execution_count": 88,
   "metadata": {},
   "outputs": [],
   "source": [
    "\n",
    "# Create a thread\n",
    "thread = client.beta.threads.create()\n",
    "\n",
    "def add_message(message:str, thread=thread):\n",
    "    message = client.beta.threads.messages.create(\n",
    "        thread_id=thread.id,\n",
    "        role=\"user\",\n",
    "        content=message\n",
    "        )\n",
    "    \n",
    "    return message\n",
    "\n",
    "def message_agent(message:str, instructions:str=None):\n",
    "  user_messages = add_message(message)\n",
    "  run = client.beta.threads.runs.create_and_poll(\n",
    "          thread_id=thread.id,\n",
    "          assistant_id=assistant.id,\n",
    "          instructions = instructions\n",
    "          )\n",
    "  \n",
    "  messages = client.beta.threads.messages.list(\n",
    "    thread_id=thread.id\n",
    "  )\n",
    "  return messages"
   ]
  },
  {
   "cell_type": "code",
   "execution_count": 89,
   "metadata": {},
   "outputs": [
    {
     "name": "stdout",
     "output_type": "stream",
     "text": [
      "The document is a Sample Human Resource Manual for ABC & Associates, a firm offering assurance and consultancy services. It outlines the guidelines for human resource management, applicable to all staff including the Senior Management Team.\n",
      "\n",
      "1. **Purpose and Objectives**: The manual aims to guide staff regarding their rights and obligations and ensures equal employment opportunities, appropriate remuneration, fair hearing, and suitable training and facilitation【4:0†SAMPLE HR MANUAL.pdf】.\n",
      "\n",
      "2. **Recruitment and Appointment**: It provides a recruitment policy focused on merit-based selection for positions, outlines procedures for job applications, selection tests, staff appointments, and the induction process【4:4†SAMPLE HR MANUAL.pdf】【4:3†SAMPLE HR MANUAL.pdf】.\n",
      "\n",
      "3. **Conditions of Appointment**: Details include probation periods, termination conditions, confirmation of appointments, and the responsible use of firm resources【4:3†SAMPLE HR MANUAL.pdf】.\n",
      "\n",
      "4. **Staff Development and Performance Evaluation**: The manual emphasizes career development, continuous professional development, and has structured performance evaluations held twice a year【4:3†SAMPLE HR MANUAL.pdf】【4:7†SAMPLE HR MANUAL.pdf】.\n",
      "\n",
      "5. **Compensation and Benefits**: Salary payments, overtime allowances, and compensation for work-related injuries are covered【4:6†SAMPLE HR MANUAL.pdf】【4:8†SAMPLE HR MANUAL.pdf】.\n",
      "\n",
      "6. **Discipline and Leave Policies**: It outlines expected discipline standards, types of misconduct, disciplinary actions, and provisions for different types of leave including annual, maternity, and sick leave【4:6†SAMPLE HR MANUAL.pdf】【4:8†SAMPLE HR MANUAL.pdf】.\n",
      "\n",
      "7. **Termination, Safety, and Security**: Instructions for termination notice, handing over duties, and employee safety and security protocols are provided【4:8†SAMPLE HR MANUAL.pdf】.\n",
      "\n",
      "The manual serves as a comprehensive guide for managing human resources effectively within the firm【4:1†SAMPLE HR MANUAL.pdf】.\n"
     ]
    }
   ],
   "source": [
    "message = \"Give a short summary of the document\"\n",
    "messages = message_agent(message=message)\n",
    "print(messages.data[0].content[0].text.value)"
   ]
  },
  {
   "cell_type": "markdown",
   "metadata": {},
   "source": [
    "### 1.2. Langchain / LLAMA Index"
   ]
  },
  {
   "cell_type": "markdown",
   "metadata": {},
   "source": [
    "Uncomment the next cell to install the required modules "
   ]
  },
  {
   "cell_type": "code",
   "execution_count": 37,
   "metadata": {},
   "outputs": [],
   "source": [
    "# ! pip install llama_index langchain langchain-openai"
   ]
  },
  {
   "cell_type": "code",
   "execution_count": 30,
   "metadata": {},
   "outputs": [],
   "source": [
    "from llama_index.core import GPTVectorStoreIndex,  SimpleDirectoryReader\n",
    "\n",
    "# from llama_index.legacy.readers.file.base import SimpleDirectoryReader\n",
    "\n",
    "from langchain_openai import OpenAI\n",
    "from llama_index.embeddings.openai import OpenAIEmbedding\n",
    "from llama_index.core.node_parser import SentenceSplitter\n",
    "from llama_index.llms.openai import OpenAI\n",
    "from llama_index.core import Settings\n",
    "from llama_index.core import StorageContext, load_index_from_storage\n"
   ]
  },
  {
   "cell_type": "code",
   "execution_count": 33,
   "metadata": {},
   "outputs": [],
   "source": [
    "def construct_baseline_index(document_folder, index_folder):\n",
    "\tindex_folder=index_folder+'/baseline'\n",
    "\tprint(index_folder)\n",
    "\tif not os.path.exists(index_folder):\n",
    "\t\tprint('CREATING')\n",
    "\t\tos.makedirs(index_folder)\n",
    "\tSettings.tokenizer = None\n",
    "\tSettings.llm = OpenAI(model=\"gpt-4\")\n",
    "\tSettings.embed_model = OpenAIEmbedding(model=\"text-embedding-3-small\")\n",
    "\tprint('INDEXING')\n",
    "\tdocuments = SimpleDirectoryReader(document_folder).load_data()\n",
    "\tindex =  GPTVectorStoreIndex.from_documents(documents)\n",
    "\tprint('SAVING INDEX TO DISK')\n",
    "\tindex.storage_context.persist(index_folder)\n",
    "\treturn index"
   ]
  },
  {
   "cell_type": "code",
   "execution_count": 35,
   "metadata": {},
   "outputs": [
    {
     "name": "stdout",
     "output_type": "stream",
     "text": [
      "./index/baseline\n",
      "INDEXING\n",
      "SAVING INDEX TO DISK\n"
     ]
    },
    {
     "data": {
      "text/plain": [
       "<llama_index.core.indices.vector_store.base.VectorStoreIndex at 0x71fe08073dd0>"
      ]
     },
     "execution_count": 35,
     "metadata": {},
     "output_type": "execute_result"
    }
   ],
   "source": [
    "## create the index\n",
    "construct_baseline_index(document_folder, index_folder)"
   ]
  },
  {
   "cell_type": "code",
   "execution_count": 36,
   "metadata": {},
   "outputs": [
    {
     "name": "stdout",
     "output_type": "stream",
     "text": [
      "The document is a Sample Human Resource Manual that covers various aspects of human resource management policies and procedures. It includes sections on recruitment and appointment processes, conditions of appointment, staff development, performance evaluation, compensation packages, facilitation, discipline, leave policies, termination of service procedures, and safety and security measures.\n"
     ]
    }
   ],
   "source": [
    "query = 'Give a short summary of the document'\n",
    "llm_ver = 'gpt-4'\n",
    "storage_context = StorageContext.from_defaults(persist_dir=index_folder+'/baseline')\n",
    "index = load_index_from_storage(storage_context)\n",
    "llm=OpenAI(temperature=0, model_name=llm_ver)\n",
    "resp = index.as_query_engine(llm=llm).query(query).response\n",
    "print(resp)"
   ]
  },
  {
   "cell_type": "markdown",
   "metadata": {},
   "source": [
    "### 2. LLM Evaluation\n",
    "There are several ways to evaluate the performance of RAG. Here, we will explore the Langchain Evaluator Framework"
   ]
  },
  {
   "cell_type": "markdown",
   "metadata": {},
   "source": [
    "### 3. LLM Evaluaion via Confusion Matrix\n",
    "Now we explore using the well-known Machine Learning method. Let's load the dataset:"
   ]
  },
  {
   "cell_type": "code",
   "execution_count": 57,
   "metadata": {},
   "outputs": [],
   "source": [
    "# !pip install scikit-learn"
   ]
  },
  {
   "cell_type": "code",
   "execution_count": 73,
   "metadata": {},
   "outputs": [],
   "source": [
    "from sklearn.metrics import confusion_matrix, ConfusionMatrixDisplay, precision_score, recall_score, accuracy_score, f1_score"
   ]
  },
  {
   "cell_type": "code",
   "execution_count": 58,
   "metadata": {},
   "outputs": [],
   "source": [
    "# !pip install pandas"
   ]
  },
  {
   "cell_type": "code",
   "execution_count": 47,
   "metadata": {},
   "outputs": [
    {
     "data": {
      "text/html": [
       "<div>\n",
       "<style scoped>\n",
       "    .dataframe tbody tr th:only-of-type {\n",
       "        vertical-align: middle;\n",
       "    }\n",
       "\n",
       "    .dataframe tbody tr th {\n",
       "        vertical-align: top;\n",
       "    }\n",
       "\n",
       "    .dataframe thead th {\n",
       "        text-align: right;\n",
       "    }\n",
       "</style>\n",
       "<table border=\"1\" class=\"dataframe\">\n",
       "  <thead>\n",
       "    <tr style=\"text-align: right;\">\n",
       "      <th></th>\n",
       "      <th>query</th>\n",
       "      <th>label</th>\n",
       "    </tr>\n",
       "  </thead>\n",
       "  <tbody>\n",
       "    <tr>\n",
       "      <th>0</th>\n",
       "      <td>What is the purpose of the HR manual at ABC &amp; ...</td>\n",
       "      <td>True</td>\n",
       "    </tr>\n",
       "    <tr>\n",
       "      <th>1</th>\n",
       "      <td>How does ABC &amp; Associates handle recruitment a...</td>\n",
       "      <td>True</td>\n",
       "    </tr>\n",
       "    <tr>\n",
       "      <th>2</th>\n",
       "      <td>What are the probationary terms for new employ...</td>\n",
       "      <td>True</td>\n",
       "    </tr>\n",
       "    <tr>\n",
       "      <th>3</th>\n",
       "      <td>How does the firm conduct performance evaluati...</td>\n",
       "      <td>True</td>\n",
       "    </tr>\n",
       "    <tr>\n",
       "      <th>4</th>\n",
       "      <td>What types of leave are available to employees...</td>\n",
       "      <td>True</td>\n",
       "    </tr>\n",
       "  </tbody>\n",
       "</table>\n",
       "</div>"
      ],
      "text/plain": [
       "                                               query  label\n",
       "0  What is the purpose of the HR manual at ABC & ...   True\n",
       "1  How does ABC & Associates handle recruitment a...   True\n",
       "2  What are the probationary terms for new employ...   True\n",
       "3  How does the firm conduct performance evaluati...   True\n",
       "4  What types of leave are available to employees...   True"
      ]
     },
     "execution_count": 47,
     "metadata": {},
     "output_type": "execute_result"
    }
   ],
   "source": [
    "import pandas as pd\n",
    "\n",
    "filename = data_folder + '/hr_manual_dataset_binary.csv'\n",
    "df = pd.read_csv(filename, header=None, names = ['query', 'label'])\n",
    "df.head()"
   ]
  },
  {
   "cell_type": "code",
   "execution_count": 48,
   "metadata": {},
   "outputs": [],
   "source": [
    "X = df['query']\n",
    "y = df['label']\n"
   ]
  },
  {
   "cell_type": "code",
   "execution_count": 45,
   "metadata": {},
   "outputs": [
    {
     "data": {
      "text/plain": [
       "0    What is the purpose of the HR manual at ABC & ...\n",
       "1    How does ABC & Associates handle recruitment a...\n",
       "2    What are the probationary terms for new employ...\n",
       "3    How does the firm conduct performance evaluati...\n",
       "4    What types of leave are available to employees...\n",
       "Name: query, dtype: object"
      ]
     },
     "execution_count": 45,
     "metadata": {},
     "output_type": "execute_result"
    }
   ],
   "source": [
    "X.head()"
   ]
  },
  {
   "cell_type": "code",
   "execution_count": 46,
   "metadata": {},
   "outputs": [
    {
     "data": {
      "text/plain": [
       "0    True\n",
       "1    True\n",
       "2    True\n",
       "3    True\n",
       "4    True\n",
       "Name: label, dtype: bool"
      ]
     },
     "execution_count": 46,
     "metadata": {},
     "output_type": "execute_result"
    }
   ],
   "source": [
    "y.head()"
   ]
  },
  {
   "cell_type": "markdown",
   "metadata": {},
   "source": [
    "### 3.1 Langchain / LLAMA Index"
   ]
  },
  {
   "cell_type": "code",
   "execution_count": 60,
   "metadata": {},
   "outputs": [
    {
     "name": "stdout",
     "output_type": "stream",
     "text": [
      "True\n",
      "True\n",
      "False\n",
      "True\n",
      "True\n",
      "True\n",
      "True\n",
      "True\n",
      "True\n",
      "True\n",
      "False\n",
      "False\n",
      "False\n",
      "False\n",
      "False\n",
      "False\n",
      "True\n",
      "False\n",
      "False\n",
      "False\n"
     ]
    }
   ],
   "source": [
    "y_predict = []\n",
    "\n",
    "for query in X:\n",
    "    prompt = f'Use only the information provided in the document. respond only with \"True\" if you find the answer to the query and only with \"False\" if not. The query is: {query}'\n",
    "    # print(prompt)\n",
    "    resp = index.as_query_engine(llm=llm).query(prompt).response\n",
    "    print(resp)\n",
    "    y_predict.append(resp)\n",
    "\n",
    "y_predict = [s == \"True\" for s in y_predict]\n"
   ]
  },
  {
   "cell_type": "code",
   "execution_count": 74,
   "metadata": {},
   "outputs": [
    {
     "name": "stdout",
     "output_type": "stream",
     "text": [
      "Performance Evaluation for Langchain / LLAMA Index:\n",
      "precision : 0.9\n",
      "recall : 0.9\n",
      "accuracy : 0.9\n",
      "f1 score : 0.9\n"
     ]
    }
   ],
   "source": [
    "precision = precision_score(y, y_predict)\n",
    "recall = recall_score(y, y_predict)\n",
    "accuracy = accuracy_score(y, y_predict)\n",
    "f1 = f1_score(y, y_predict)\n",
    "cm = confusion_matrix(y, y_predict)\n",
    "print(f'Performance Evaluation for Langchain / LLAMA Index:\\nprecision : {precision}\\nrecall : {recall}\\naccuracy : {accuracy}\\nf1 score : {f1}')"
   ]
  },
  {
   "cell_type": "code",
   "execution_count": 75,
   "metadata": {},
   "outputs": [
    {
     "data": {
      "text/plain": [
       "<sklearn.metrics._plot.confusion_matrix.ConfusionMatrixDisplay at 0x71fe04d08080>"
      ]
     },
     "execution_count": 75,
     "metadata": {},
     "output_type": "execute_result"
    },
    {
     "data": {
      "image/png": "[encoded data removed]",
      "text/plain": [
       "<Figure size 640x480 with 2 Axes>"
      ]
     },
     "metadata": {},
     "output_type": "display_data"
    }
   ],
   "source": [
    "cm_display = ConfusionMatrixDisplay(confusion_matrix = cm, display_labels = [False, True])\n",
    "cm_display.plot()\n"
   ]
  },
  {
   "cell_type": "markdown",
   "metadata": {},
   "source": [
    "### 3.2 OpenAI API"
   ]
  },
  {
   "cell_type": "code",
   "execution_count": 93,
   "metadata": {},
   "outputs": [
    {
     "name": "stdout",
     "output_type": "stream",
     "text": [
      "True\n",
      "True\n",
      "True\n",
      "True\n",
      "True\n",
      "True\n",
      "False\n",
      "True\n",
      "True\n",
      "True\n",
      "False\n",
      "False\n",
      "False\n",
      "False\n",
      "False\n",
      "False\n",
      "False\n",
      "False\n",
      "False\n",
      "False\n"
     ]
    }
   ],
   "source": [
    "# Create a new thread\n",
    "thread = client.beta.threads.create()\n",
    "\n",
    "y_predict_openai = []\n",
    "\n",
    "for query in X:\n",
    "    prompt = f'Use only the information provided in the document. respond only with \"True\" if you find the answer to the query and only with \"False\" if not. The query is: {query}'\n",
    "    # print(prompt)\n",
    "    messages = message_agent(message=prompt)\n",
    "    print(messages.data[0].content[0].text.value)\n",
    "    y_predict_openai.append(messages.data[0].content[0].text.value)\n",
    "\n",
    "y_predict_openai = [s == \"True\" for s in y_predict_openai]"
   ]
  },
  {
   "cell_type": "code",
   "execution_count": 95,
   "metadata": {},
   "outputs": [
    {
     "name": "stdout",
     "output_type": "stream",
     "text": [
      "Performance Evaluation for OpenAI Agent:\n",
      "precision : 1.0\n",
      "recall : 0.9\n",
      "accuracy : 0.95\n",
      "f1 score : 0.9473684210526315\n"
     ]
    }
   ],
   "source": [
    "precision_openai = precision_score(y, y_predict_openai)\n",
    "recall_openai = recall_score(y, y_predict_openai)\n",
    "accuracy_openai = accuracy_score(y, y_predict_openai)\n",
    "f1_openai = f1_score(y, y_predict_openai)\n",
    "cm_openai = confusion_matrix(y, y_predict_openai)\n",
    "print(f'Performance Evaluation for OpenAI Agent:\\nprecision : {precision_openai}\\nrecall : {recall_openai}\\naccuracy : {accuracy_openai}\\nf1 score : {f1_openai}')"
   ]
  },
  {
   "cell_type": "code",
   "execution_count": 96,
   "metadata": {},
   "outputs": [
    {
     "data": {
      "text/plain": [
       "<sklearn.metrics._plot.confusion_matrix.ConfusionMatrixDisplay at 0x71fe039b53a0>"
      ]
     },
     "execution_count": 96,
     "metadata": {},
     "output_type": "execute_result"
    },
    {
     "data": {
      "image/png": "[encoded data removed]",
      "text/plain": [
       "<Figure size 640x480 with 2 Axes>"
      ]
     },
     "metadata": {},
     "output_type": "display_data"
    }
   ],
   "source": [
    "cm_display = ConfusionMatrixDisplay(confusion_matrix = cm_openai, display_labels = [False, True])\n",
    "cm_display.plot()"
   ]
  }
 ],
 "metadata": {
  "kernelspec": {
   "display_name": "gpu",
   "language": "python",
   "name": "python3"
  },
  "language_info": {
   "codemirror_mode": {
    "name": "ipython",
    "version": 3
   },
   "file_extension": ".py",
   "mimetype": "text/x-python",
   "name": "python",
   "nbconvert_exporter": "python",
   "pygments_lexer": "ipython3",
   "version": "3.12.8"
  }
 },
 "nbformat": 4,
 "nbformat_minor": 2
}
