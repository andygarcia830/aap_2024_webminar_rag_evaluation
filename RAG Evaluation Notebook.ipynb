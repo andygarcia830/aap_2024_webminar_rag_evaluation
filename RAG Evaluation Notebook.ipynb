{
 "cells": [
  {
   "cell_type": "markdown",
   "metadata": {},
   "source": [
    "## RAG Evaluation Notebook\n",
    "by Andy Garcia\n"
   ]
  },
  {
   "cell_type": "markdown",
   "metadata": {},
   "source": [
    "For this notebook, we will use a sample HR Manual from this source:<br>\n",
    "https://www.icpau.co.ug/sites/default/files/Resources/SAMPLE%20HR%20MANUAL.pdf<br>\n",
    "It's already downloaded in the ./data directory."
   ]
  },
  {
   "cell_type": "markdown",
   "metadata": {},
   "source": [
    "### 1. RAG\n",
    "Let's start by learning how to use Retrieval Augmented Generation (RAG). There are two ways we can go about this: via the LLM's native API or via an LLM agnostic framework. We will explore using OpenAI's native API and the Langchain framework. For both cases we will use OpenAI as the LLM for generation, so you will need a working OpenAI API key. Set the environment variable using the cell below. Reminder: DO NOT upload your API KEY to Git!!!"
   ]
  },
  {
   "cell_type": "code",
   "execution_count": null,
   "metadata": {},
   "outputs": [],
   "source": [
    "%env OPENAI_API_KEY=<YOUR API KEY HERE>"
   ]
  },
  {
   "cell_type": "code",
   "execution_count": 1,
   "metadata": {},
   "outputs": [],
   "source": [
    "import os"
   ]
  },
  {
   "cell_type": "code",
   "execution_count": null,
   "metadata": {},
   "outputs": [],
   "source": [
    "\n",
    "# Check if OPENAI_API_KEY is visible to the notebook\n",
    "OPENAI_API_KEY = os.environ['OPENAI_API_KEY']\n",
    "print(f'API KEY={OPENAI_API_KEY}')"
   ]
  },
  {
   "cell_type": "code",
   "execution_count": 2,
   "metadata": {},
   "outputs": [],
   "source": [
    "data_folder = './data'\n",
    "index_folder = './index'\n",
    "document_folder = './document'"
   ]
  },
  {
   "cell_type": "markdown",
   "metadata": {},
   "source": [
    "### 1.1. OpenAI API"
   ]
  },
  {
   "cell_type": "code",
   "execution_count": 78,
   "metadata": {},
   "outputs": [],
   "source": [
    "# !pip install openai"
   ]
  },
  {
   "cell_type": "code",
   "execution_count": 3,
   "metadata": {},
   "outputs": [
    {
     "name": "stdout",
     "output_type": "stream",
     "text": [
      "completed\n",
      "FileCounts(cancelled=0, completed=1, failed=0, in_progress=0, total=1)\n"
     ]
    }
   ],
   "source": [
    "from openai import OpenAI\n",
    "\n",
    "client = OpenAI()\n",
    "vector_store = client.beta.vector_stores.create(name=\"Employee Handbook\",\n",
    "                                                expires_after={\n",
    "                                                    \"anchor\": \"last_active_at\",\n",
    "                                                    \"days\": 1\n",
    "                                                })\n",
    "\n",
    "file_paths = [document_folder+'/SAMPLE HR MANUAL.pdf']\n",
    "file_streams = [open(path, \"rb\") for path in file_paths]\n",
    "\n",
    "file_batch = client.beta.vector_stores.file_batches.upload_and_poll(\n",
    "    vector_store_id=vector_store.id, files=file_streams\n",
    ")\n",
    "\n",
    "print(file_batch.status)\n",
    "print(file_batch.file_counts)"
   ]
  },
  {
   "cell_type": "code",
   "execution_count": 4,
   "metadata": {},
   "outputs": [
    {
     "name": "stdout",
     "output_type": "stream",
     "text": [
      "VectorStore(id='vs_px30MKzWeRae7ih6Vy1lAVjS', created_at=1737428338, file_counts=FileCounts(cancelled=0, completed=0, failed=0, in_progress=0, total=0), last_active_at=1737428344, metadata={}, name=None, object='vector_store', status='completed', usage_bytes=0, expires_after=ExpiresAfter(anchor='last_active_at', days=7), expires_at=1738033144)\n",
      "VectorStore(id='vs_vfjaqMmkGouzAkEBuRawdde7', created_at=1737428336, file_counts=FileCounts(cancelled=0, completed=1, failed=0, in_progress=0, total=1), last_active_at=1737428342, metadata={}, name='Employee Handbook', object='vector_store', status='completed', usage_bytes=29110, expires_after=ExpiresAfter(anchor='last_active_at', days=1), expires_at=1737514742)\n",
      "VectorStore(id='vs_ecLh6F0BTUtdoKaz9tUfTJq2', created_at=1737428228, file_counts=FileCounts(cancelled=0, completed=0, failed=0, in_progress=0, total=0), last_active_at=1737428235, metadata={}, name=None, object='vector_store', status='completed', usage_bytes=0, expires_after=ExpiresAfter(anchor='last_active_at', days=7), expires_at=1738033035)\n",
      "VectorStore(id='vs_Xw8lLeOGe68PbZMpJ8IdvRSS', created_at=1737423000, file_counts=FileCounts(cancelled=0, completed=0, failed=0, in_progress=0, total=0), last_active_at=1737423002, metadata={}, name=None, object='vector_store', status='completed', usage_bytes=0, expires_after=ExpiresAfter(anchor='last_active_at', days=7), expires_at=1738027802)\n",
      "VectorStore(id='vs_5x1B5ZFN8TRZ4mRVC830EoUN', created_at=1737353275, file_counts=FileCounts(cancelled=0, completed=1, failed=0, in_progress=0, total=1), last_active_at=1737353277, metadata={}, name='Employee Handbook', object='vector_store', status='completed', usage_bytes=126448, expires_after=ExpiresAfter(anchor='last_active_at', days=1), expires_at=1737439677)\n"
     ]
    }
   ],
   "source": [
    "# Check the vector stores uploaded\n",
    "vector_stores = client.beta.vector_stores.list()\n",
    "for store in vector_stores:\n",
    "    print(store)"
   ]
  },
  {
   "cell_type": "code",
   "execution_count": 5,
   "metadata": {},
   "outputs": [],
   "source": [
    "vector_store = vector_stores.data[0]"
   ]
  },
  {
   "cell_type": "markdown",
   "metadata": {},
   "source": [
    "Ok, technically we are using an agent, but the agent uses RAG under the hood!"
   ]
  },
  {
   "cell_type": "code",
   "execution_count": 6,
   "metadata": {},
   "outputs": [],
   "source": [
    "# Create an assistant\n",
    "\n",
    "instructions = \"You are an HR Assistant. If you don't have the answer from the document, refer them to directly contact HR\"\n",
    "\n",
    "assistant = client.beta.assistants.create(\n",
    "    name=\"HR Employee Chatbot\",\n",
    "    instructions=instructions,\n",
    "    tools=[{\"type\": \"file_search\"}],\n",
    "    model=\"gpt-4o\",\n",
    ")"
   ]
  },
  {
   "cell_type": "code",
   "execution_count": 7,
   "metadata": {},
   "outputs": [],
   "source": [
    "# add the vector store to the assistant\n",
    "\n",
    "assistant = client.beta.assistants.update(\n",
    "    assistant_id=assistant.id,\n",
    "    tool_resources={'file_search': {'vector_store_ids': [vector_store.id]}}\n",
    ")"
   ]
  },
  {
   "cell_type": "code",
   "execution_count": 8,
   "metadata": {},
   "outputs": [],
   "source": [
    "\n",
    "# Create a thread\n",
    "thread = client.beta.threads.create()\n",
    "\n",
    "\n",
    "def add_message(message: str, thread=thread):\n",
    "    message = client.beta.threads.messages.create(\n",
    "        thread_id=thread.id,\n",
    "        role=\"user\",\n",
    "        content=message\n",
    "    )\n",
    "\n",
    "    return message\n",
    "\n",
    "\n",
    "def message_agent(message: str, instructions: str = None):\n",
    "    user_messages = add_message(message)\n",
    "    run = client.beta.threads.runs.create_and_poll(\n",
    "        thread_id=thread.id,\n",
    "        assistant_id=assistant.id,\n",
    "        instructions=instructions\n",
    "    )\n",
    "\n",
    "    messages = client.beta.threads.messages.list(\n",
    "        thread_id=thread.id\n",
    "    )\n",
    "    return messages"
   ]
  },
  {
   "cell_type": "code",
   "execution_count": 9,
   "metadata": {},
   "outputs": [
    {
     "name": "stdout",
     "output_type": "stream",
     "text": [
      "I couldn't find a summarized version directly from the document. Please provide more specific information you need from the document, or you can contact HR directly for assistance.\n"
     ]
    }
   ],
   "source": [
    "message = \"Give a short summary of the document\"\n",
    "messages = message_agent(message=message)\n",
    "print(messages.data[0].content[0].text.value)"
   ]
  },
  {
   "cell_type": "markdown",
   "metadata": {},
   "source": [
    "### 1.2. Langchain / LLAMA Index"
   ]
  },
  {
   "cell_type": "markdown",
   "metadata": {},
   "source": [
    "Uncomment the next cell to install the required modules "
   ]
  },
  {
   "cell_type": "code",
   "execution_count": 37,
   "metadata": {},
   "outputs": [],
   "source": [
    "# ! pip install llama_index langchain langchain-openai"
   ]
  },
  {
   "cell_type": "code",
   "execution_count": 4,
   "metadata": {},
   "outputs": [],
   "source": [
    "from llama_index.core import GPTVectorStoreIndex,  SimpleDirectoryReader\n",
    "\n",
    "# from llama_index.legacy.readers.file.base import SimpleDirectoryReader\n",
    "\n",
    "from langchain_openai import OpenAI\n",
    "from llama_index.embeddings.openai import OpenAIEmbedding\n",
    "from llama_index.core.node_parser import SentenceSplitter\n",
    "from llama_index.llms.openai import OpenAI\n",
    "from llama_index.core import Settings\n",
    "from llama_index.core import StorageContext, load_index_from_storage"
   ]
  },
  {
   "cell_type": "code",
   "execution_count": 11,
   "metadata": {},
   "outputs": [],
   "source": [
    "def construct_baseline_index(document_folder, index_folder):\n",
    "    index_folder = index_folder+'/baseline'\n",
    "    print(index_folder)\n",
    "    if not os.path.exists(index_folder):\n",
    "        print('CREATING')\n",
    "        os.makedirs(index_folder)\n",
    "    Settings.tokenizer = None\n",
    "    Settings.llm = OpenAI(model=\"gpt-4\")\n",
    "    Settings.embed_model = OpenAIEmbedding(model=\"text-embedding-3-small\")\n",
    "    print('INDEXING')\n",
    "    documents = SimpleDirectoryReader(document_folder).load_data()\n",
    "    index = GPTVectorStoreIndex.from_documents(documents)\n",
    "    print('SAVING INDEX TO DISK')\n",
    "    index.storage_context.persist(index_folder)\n",
    "    return index"
   ]
  },
  {
   "cell_type": "code",
   "execution_count": 14,
   "metadata": {},
   "outputs": [
    {
     "name": "stdout",
     "output_type": "stream",
     "text": [
      "./index/baseline\n",
      "INDEXING\n",
      "SAVING INDEX TO DISK\n"
     ]
    },
    {
     "data": {
      "text/plain": [
       "<llama_index.core.indices.vector_store.base.VectorStoreIndex at 0x7aa896dc4fb0>"
      ]
     },
     "execution_count": 14,
     "metadata": {},
     "output_type": "execute_result"
    }
   ],
   "source": [
    "# create the index\n",
    "construct_baseline_index(document_folder, index_folder)"
   ]
  },
  {
   "cell_type": "code",
   "execution_count": 5,
   "metadata": {},
   "outputs": [
    {
     "name": "stdout",
     "output_type": "stream",
     "text": [
      "The document is a Sample Human Resource Manual that covers various aspects of human resource management such as management of performance appraisal recommendations, compensation packages including salary payments and deductions, overtime allowance, facilitation like transport provision, and discipline guidelines. It also includes information on staff career development, performance evaluation procedures, performance reviews, and the annual performance review cycle. The manual emphasizes the importance of staff performance improvement, appropriate compensation based on performance, and maintaining discipline and integrity in conducting the firm's business.\n"
     ]
    }
   ],
   "source": [
    "query = 'Give a short summary of the document'\n",
    "llm_ver = 'gpt-4'\n",
    "storage_context = StorageContext.from_defaults(\n",
    "    persist_dir=index_folder+'/baseline')\n",
    "index = load_index_from_storage(storage_context)\n",
    "llm = OpenAI(temperature=0, model_name=llm_ver)\n",
    "resp = index.as_query_engine(llm=llm).query(query).response\n",
    "print(resp)"
   ]
  },
  {
   "cell_type": "markdown",
   "metadata": {},
   "source": [
    "### 2. LLM Evaluation\n",
    "There are several ways to evaluate the performance of RAG. But first, we will need labeled data. The file hr_manual_dataset.csv contains queries to the HR Manual, an ground truth indication of whether or not the requested information is available in the manual, and a reference answer from ChatGPT 4o. Let's load the data:"
   ]
  },
  {
   "cell_type": "code",
   "execution_count": 58,
   "metadata": {},
   "outputs": [],
   "source": [
    "# !pip install pandas"
   ]
  },
  {
   "cell_type": "code",
   "execution_count": 6,
   "metadata": {},
   "outputs": [
    {
     "data": {
      "text/html": [
       "<div>\n",
       "<style scoped>\n",
       "    .dataframe tbody tr th:only-of-type {\n",
       "        vertical-align: middle;\n",
       "    }\n",
       "\n",
       "    .dataframe tbody tr th {\n",
       "        vertical-align: top;\n",
       "    }\n",
       "\n",
       "    .dataframe thead th {\n",
       "        text-align: right;\n",
       "    }\n",
       "</style>\n",
       "<table border=\"1\" class=\"dataframe\">\n",
       "  <thead>\n",
       "    <tr style=\"text-align: right;\">\n",
       "      <th></th>\n",
       "      <th>query</th>\n",
       "      <th>label</th>\n",
       "      <th>reference</th>\n",
       "    </tr>\n",
       "  </thead>\n",
       "  <tbody>\n",
       "    <tr>\n",
       "      <th>0</th>\n",
       "      <td>What is the purpose of the HR manual at ABC &amp; ...</td>\n",
       "      <td>True</td>\n",
       "      <td>The purpose of the HR manual at ABC &amp; Associat...</td>\n",
       "    </tr>\n",
       "    <tr>\n",
       "      <th>1</th>\n",
       "      <td>How does ABC &amp; Associates handle recruitment a...</td>\n",
       "      <td>True</td>\n",
       "      <td>ABC &amp; Associates handles recruitment and selec...</td>\n",
       "    </tr>\n",
       "    <tr>\n",
       "      <th>2</th>\n",
       "      <td>What are the probationary terms for new employ...</td>\n",
       "      <td>True</td>\n",
       "      <td>At ABC &amp; Associates, the probationary terms fo...</td>\n",
       "    </tr>\n",
       "    <tr>\n",
       "      <th>3</th>\n",
       "      <td>How does the firm conduct performance evaluati...</td>\n",
       "      <td>True</td>\n",
       "      <td>ABC &amp; Associates conducts performance evaluati...</td>\n",
       "    </tr>\n",
       "    <tr>\n",
       "      <th>4</th>\n",
       "      <td>What types of leave are available to employees...</td>\n",
       "      <td>True</td>\n",
       "      <td>At ABC &amp; Associates, employees have access to ...</td>\n",
       "    </tr>\n",
       "  </tbody>\n",
       "</table>\n",
       "</div>"
      ],
      "text/plain": [
       "                                               query  label  \\\n",
       "0  What is the purpose of the HR manual at ABC & ...   True   \n",
       "1  How does ABC & Associates handle recruitment a...   True   \n",
       "2  What are the probationary terms for new employ...   True   \n",
       "3  How does the firm conduct performance evaluati...   True   \n",
       "4  What types of leave are available to employees...   True   \n",
       "\n",
       "                                           reference  \n",
       "0  The purpose of the HR manual at ABC & Associat...  \n",
       "1  ABC & Associates handles recruitment and selec...  \n",
       "2  At ABC & Associates, the probationary terms fo...  \n",
       "3  ABC & Associates conducts performance evaluati...  \n",
       "4  At ABC & Associates, employees have access to ...  "
      ]
     },
     "execution_count": 6,
     "metadata": {},
     "output_type": "execute_result"
    }
   ],
   "source": [
    "import pandas as pd\n",
    "\n",
    "filename = data_folder + '/hr_manual_dataset.csv'\n",
    "df = pd.read_csv(filename, header=None, names=['query', 'label', 'reference'])\n",
    "df.head()"
   ]
  },
  {
   "cell_type": "code",
   "execution_count": 7,
   "metadata": {},
   "outputs": [],
   "source": [
    "X = df['query']\n",
    "y = df['label']\n",
    "ref_answers = df['reference']"
   ]
  },
  {
   "cell_type": "code",
   "execution_count": 18,
   "metadata": {},
   "outputs": [
    {
     "data": {
      "text/plain": [
       "0    What is the purpose of the HR manual at ABC & ...\n",
       "1    How does ABC & Associates handle recruitment a...\n",
       "2    What are the probationary terms for new employ...\n",
       "3    How does the firm conduct performance evaluati...\n",
       "4    What types of leave are available to employees...\n",
       "Name: query, dtype: object"
      ]
     },
     "execution_count": 18,
     "metadata": {},
     "output_type": "execute_result"
    }
   ],
   "source": [
    "X.head()"
   ]
  },
  {
   "cell_type": "code",
   "execution_count": 19,
   "metadata": {},
   "outputs": [
    {
     "data": {
      "text/plain": [
       "0    True\n",
       "1    True\n",
       "2    True\n",
       "3    True\n",
       "4    True\n",
       "Name: label, dtype: bool"
      ]
     },
     "execution_count": 19,
     "metadata": {},
     "output_type": "execute_result"
    }
   ],
   "source": [
    "y.head()"
   ]
  },
  {
   "cell_type": "code",
   "execution_count": 20,
   "metadata": {},
   "outputs": [
    {
     "data": {
      "text/plain": [
       "0    The purpose of the HR manual at ABC & Associat...\n",
       "1    ABC & Associates handles recruitment and selec...\n",
       "2    At ABC & Associates, the probationary terms fo...\n",
       "3    ABC & Associates conducts performance evaluati...\n",
       "4    At ABC & Associates, employees have access to ...\n",
       "Name: reference, dtype: object"
      ]
     },
     "execution_count": 20,
     "metadata": {},
     "output_type": "execute_result"
    }
   ],
   "source": [
    "ref_answers.head()"
   ]
  },
  {
   "cell_type": "markdown",
   "metadata": {},
   "source": [
    "### 3. LLM Evaluaion via Confusion Matrix\n",
    "Now we explore using the well-known Machine Learning method. Let's load the dataset:"
   ]
  },
  {
   "cell_type": "code",
   "execution_count": 57,
   "metadata": {},
   "outputs": [],
   "source": [
    "# !pip install scikit-learn"
   ]
  },
  {
   "cell_type": "code",
   "execution_count": 73,
   "metadata": {},
   "outputs": [],
   "source": [
    "from sklearn.metrics import confusion_matrix, ConfusionMatrixDisplay, precision_score, recall_score, accuracy_score, f1_score"
   ]
  },
  {
   "cell_type": "markdown",
   "metadata": {},
   "source": [
    "### 3.1 Langchain / LLAMA Index"
   ]
  },
  {
   "cell_type": "code",
   "execution_count": 105,
   "metadata": {},
   "outputs": [
    {
     "name": "stdout",
     "output_type": "stream",
     "text": [
      "True\n",
      "True\n",
      "True\n",
      "True\n",
      "True\n",
      "True\n",
      "True\n",
      "True\n",
      "True\n",
      "True\n",
      "False\n",
      "False\n",
      "False\n",
      "False\n",
      "False\n",
      "False\n",
      "False\n",
      "False\n",
      "False\n",
      "False\n"
     ]
    }
   ],
   "source": [
    "y_predict = []\n",
    "\n",
    "for query in X:\n",
    "    prompt = f'Use only the information provided in the document. \\\n",
    "              respond only with \"True\" if you find the answer to \\\n",
    "              the query and only with \"False\" if not. The query is: {query}'\n",
    "    \n",
    "    resp = index.as_query_engine(llm=llm).query(prompt).response\n",
    "    print(resp)\n",
    "    y_predict.append(resp)\n",
    "\n",
    "y_predict = [s == \"True\" for s in y_predict]"
   ]
  },
  {
   "cell_type": "code",
   "execution_count": 164,
   "metadata": {},
   "outputs": [
    {
     "name": "stdout",
     "output_type": "stream",
     "text": [
      "Performance Evaluation for Langchain / LLAMA Index:\n",
      "precision : 1.0\n",
      "recall : 1.0\n",
      "accuracy : 1.0\n",
      "f1 score : 1.0\n"
     ]
    }
   ],
   "source": [
    "precision = precision_score(y, y_predict)\n",
    "recall = recall_score(y, y_predict)\n",
    "accuracy = accuracy_score(y, y_predict)\n",
    "f1 = f1_score(y, y_predict)\n",
    "cm = confusion_matrix(y, y_predict)\n",
    "result = (f'Performance Evaluation for Langchain / LLAMA Index:\\n\\\n",
    "precision : {precision}\\nrecall : {recall}\\n\\\n",
    "accuracy : {accuracy}\\nf1 score : {f1}')\n",
    "print(result)"
   ]
  },
  {
   "cell_type": "markdown",
   "metadata": {},
   "source": [
    "### 2.2: LLAMA Index CorrectnesEvaluator"
   ]
  },
  {
   "cell_type": "code",
   "execution_count": 18,
   "metadata": {},
   "outputs": [
    {
     "ename": "NameError",
     "evalue": "name 'ConfusionMatrixDisplay' is not defined",
     "output_type": "error",
     "traceback": [
      "\u001b[0;31m---------------------------------------------------------------------------\u001b[0m",
      "\u001b[0;31mNameError\u001b[0m                                 Traceback (most recent call last)",
      "Cell \u001b[0;32mIn[18], line 1\u001b[0m\n\u001b[0;32m----> 1\u001b[0m cm_display \u001b[38;5;241m=\u001b[39m \u001b[43mConfusionMatrixDisplay\u001b[49m(\n\u001b[1;32m      2\u001b[0m     confusion_matrix\u001b[38;5;241m=\u001b[39mcm, display_labels\u001b[38;5;241m=\u001b[39m[\u001b[38;5;28;01mFalse\u001b[39;00m, \u001b[38;5;28;01mTrue\u001b[39;00m])\n\u001b[1;32m      3\u001b[0m cm_display\u001b[38;5;241m.\u001b[39mplot()\n",
      "\u001b[0;31mNameError\u001b[0m: name 'ConfusionMatrixDisplay' is not defined"
     ]
    }
   ],
   "source": [
    "cm_display = ConfusionMatrixDisplay(\n",
    "    confusion_matrix=cm, display_labels=[False, True])\n",
    "cm_display.plot()"
   ]
  },
  {
   "cell_type": "markdown",
   "metadata": {},
   "source": [
    "### 3.2 OpenAI API"
   ]
  },
  {
   "cell_type": "code",
   "execution_count": 156,
   "metadata": {},
   "outputs": [
    {
     "name": "stdout",
     "output_type": "stream",
     "text": [
      "True\n",
      "True\n",
      "False\n",
      "True\n",
      "True\n",
      "True\n",
      "False\n",
      "False\n",
      "False\n",
      "False\n",
      "False\n",
      "False\n",
      "False\n",
      "False\n",
      "False\n",
      "False\n",
      "False\n",
      "False\n",
      "False\n",
      "False\n"
     ]
    }
   ],
   "source": [
    "\n",
    "y_predict_openai = []\n",
    "\n",
    "for query in X:\n",
    "    prompt = f'Use only the information provided in the document. Respond only with \"True\" if you find the answer to the query and only with \"False\" if not. The query is: {query}'\n",
    "    # print(prompt)\n",
    "    messages = message_agent(message=prompt)\n",
    "    print(messages.data[0].content[0].text.value)\n",
    "    y_predict_openai.append(messages.data[0].content[0].text.value)\n",
    "\n",
    "y_predict_openai = [s == \"True\" for s in y_predict_openai]"
   ]
  },
  {
   "cell_type": "code",
   "execution_count": 166,
   "metadata": {},
   "outputs": [
    {
     "name": "stdout",
     "output_type": "stream",
     "text": [
      "Performance Evaluation for OpenAI Agent:\n",
      "precision : 1.0\n",
      "recall : 0.5\n",
      "accuracy : 0.75\n",
      "f1 score : 0.6666666666666666\n"
     ]
    }
   ],
   "source": [
    "precision_openai = precision_score(y, y_predict_openai)\n",
    "recall_openai = recall_score(y, y_predict_openai)\n",
    "accuracy_openai = accuracy_score(y, y_predict_openai)\n",
    "f1_openai = f1_score(y, y_predict_openai)\n",
    "cm_openai = confusion_matrix(y, y_predict_openai)\n",
    "result = (f'Performance Evaluation for OpenAI Agent:\\nprecision : {precision_openai}\\n\\\n",
    "recall : {recall_openai}\\naccuracy : {accuracy_openai}\\n\\\n",
    "f1 score : {f1_openai}')\n",
    "print(result)"
   ]
  },
  {
   "cell_type": "code",
   "execution_count": 158,
   "metadata": {},
   "outputs": [
    {
     "data": {
      "text/plain": [
       "<sklearn.metrics._plot.confusion_matrix.ConfusionMatrixDisplay at 0x71fe02f31520>"
      ]
     },
     "execution_count": 158,
     "metadata": {},
     "output_type": "execute_result"
    },
    {
     "data": {
      "image/png": "[encoded data removed]",
      "text/plain": [
       "<Figure size 640x480 with 2 Axes>"
      ]
     },
     "metadata": {},
     "output_type": "display_data"
    }
   ],
   "source": [
    "cm_display = ConfusionMatrixDisplay(\n",
    "    confusion_matrix=cm_openai, display_labels=[False, True])\n",
    "cm_display.plot()"
   ]
  },
  {
   "cell_type": "code",
   "execution_count": 11,
   "metadata": {},
   "outputs": [
    {
     "name": "stdout",
     "output_type": "stream",
     "text": [
      "0\n",
      "What is the purpose of the HR manual at ABC & Associates?\n",
      "The purpose of the HR manual at ABC & Associates is to guide staff regarding their rights and obligations. The manual sets out the guidelines that should be followed by all staff members, including the Senior Management Team and part-time staff, ensuring that they are aware of and adhere to the company's policies and procedures.\n",
      "The purpose of the HR manual at ABC & Associates is to establish guidelines and policies related to various aspects of human resource management within the organization, including performance appraisal, compensation packages, overtime allowances, facilitation, discipline, termination of service, safety, and security.\n",
      "1\n",
      "How does ABC & Associates handle recruitment and selection of staff?\n",
      "ABC & Associates handles recruitment and selection of staff through a clear and structured process as outlined in their HR manual: Recruitment Policy: The firm aims to recruit staff based on merit and open competition. They focus on recruiting individuals with a strong will and potential, particularly for positions that require knowledge in accounting and audit. The firm is committed to transparency in filling positions and ensuring that the recruitment process is competitive.Recruitment Procedures: Recruitment involves attracting and retaining the best talent within the firm’s financial capacity. This includes:Requiring all candidates to submit written job applications. Subjecting candidates to relevant interviews and selection tests as determined by the Managing Partner and staff. Ensuring no \"back door\" recruitment practices are used. Sometimes using headhunting or advertising to obtain the best talent without requiring applications. Staff Appointments: All staff are typically employed on a permanent basis, contingent upon successful annual performance appraisals. Staff qualifications for technical positions include specific educational achievements unless the position is non-technical. This process reflects the firm's commitment to equity, transparency, and quality in their hiring practices.\n",
      "ABC & Associates handles recruitment and selection of staff by implementing a performance appraisal process to evaluate staff performance against set parameters. This appraisal process is conducted twice a year, with performance reviews forming the basis for staff reward, development, and other management decisions. Additionally, staff members are given the opportunity to present their arguments if they believe they have been scored unfairly by the Peer Review Team during the performance appraisal exercise.\n",
      "2\n",
      "What are the probationary terms for new employees at ABC & Associates?\n",
      "At ABC & Associates, the probationary terms for new employees are as follows: Probation Period: New employees undergo a two-month probationary period upon joining the firm. Performance Appraisal: At the end of the probation period, the continuation of the employment is contingent upon a positive performance appraisal. Termination During Probation: The firm reserves the right to terminate the employment of any staff on probation due to unsatisfactory performance or conduct. These terms are designed to evaluate new hires' capabilities and fit within the company's operational needs before confirming their positions.\n",
      "New employees at ABC & Associates are required to sign a bond committing them to serve the firm for a period determined by the partners if they are sponsored for training.\n",
      "3\n",
      "How does the firm conduct performance evaluations for its staff?\n",
      "ABC & Associates conducts performance evaluations for its staff through a structured appraisal process as outlined in their HR manual: Performance Reviews: Staff undergo periodic performance reviews. These reviews serve as a basis for decisions regarding staff rewards, development, and other management actions. Annual Performance Review Cycle: The performance of all staff is appraised twice a year, every six months. The appraisals are scheduled for the first week of January and the first week of July to review performance for the cycles ending December 31st and June 30th, respectively. Mode of Appraisal Exercise: The appraisal is performed as a peer review during a round-table discussion, focusing on the performance of each individual for the ended cycle. Each appraisee has the opportunity to present their case if they believe they have been scored unfairly, implying participation in the Peer Review Team (PRT). Management of Performance Appraisal Recommendations: Following the appraisal, the firm implements recommendations to recognize and reward staff performance and address development needs. This comprehensive performance evaluation process is designed to ensure that staff performance is continuously monitored and enhanced for the mutual benefit of both the firm and the individual staff members.\n",
      "The firm conducts performance evaluations for its staff twice a year, with the appraisal exercise being carried out through a peer review process involving a round-table discussion of each individual's performance for the cycle ended. Each appraisee is given the opportunity to present their argument if they believe they have been given a lower score by the Peer Review Team (PRT), and the appraisee is also part of the PRT.\n",
      "4\n",
      "What types of leave are available to employees at ABC & Associates?\n",
      "At ABC & Associates, employees have access to several types of leave, as outlined in the HR manual: Annual Leave: Employees are entitled to thirty working days of annual leave. Maternity Leave: Female staff can take up to sixty working days of maternity leave on full pay, with at least four weeks following childbirth. Male staff are entitled to paternity leave of five working days once per year. Sick Leave: Employees can take up to one month of sick leave with full pay, provided they submit an appropriate medical report from a qualified medical practitioner. Compassionate Leave: In cases of personal difficulty, employees can apply for and be granted leave not exceeding five working days. These leave provisions ensure that employees have support during significant life events and health issues, contributing to a balanced approach to work-life commitments.\n",
      "Employees at ABC & Associates are entitled to various types of leave, including annual leave, sick leave, maternity leave, paternity leave, and compassionate leave.\n",
      "5\n",
      "What are the disciplinary procedures in the event of employee misconduct?\n",
      "ABC & Associates has a structured set of disciplinary procedures to address employee misconduct, as detailed in the HR manual: Initial Response: When an employee's performance is unsatisfactory or if they are suspected of misconduct, they are given an opportunity to respond to the allegations. Suspension for Gross Misconduct: Employees alleged to have committed offenses categorized as gross misconduct may be suspended on half pay pending the outcome of investigations. Disciplinary Actions: Depending on the severity and nature of the offense, disciplinary actions can include a caution, written warning, suspension, loss of salary, demotion, or dismissal. Procedure for Serious Offenses: For serious offenses like theft, fraud, or other acts that significantly breach professional conduct or the firm's policies, the procedures include thorough investigations and the potential for more severe disciplinary actions. These procedures are designed to ensure fairness and due process while maintaining the integrity and discipline necessary for the firm's operations.\n",
      "Employees are expected to exhibit the highest degree of discipline and courtesy while conducting the firm's business. Any acts that cast doubt on their integrity, such as misdemeanors, misconduct, and gross misconduct like drunkenness, drunken driving, smoking, use of narcotic drugs, stealing, or fighting, are considered offenses.\n",
      "6\n",
      "How are salary payments and deductions managed at ABC & Associates?\n",
      "At ABC & Associates, salary payments and deductions are managed according to a set of guidelines outlined in the HR manual: Determination of Salaries: Staff remunerations are determined by the partners and may be revised upwards or downwards depending on circumstances. The process is designed to reflect the firm's financial health and market conditions. Payment Procedures: Salaries are likely processed on a regular schedule, which is common practice though not explicitly detailed in the manual. Deductions: The manual mentions that any excess money drawn by members of the Senior Management Team (SMT) over their salary will be treated as an accountable advance and offset from future payments if not repaid. This indicates a structured approach to handling deductions and ensures financial accountability. Overtime Allowance: Employees required to work overtime are entitled to an overtime allowance equivalent to one and a half times the hourly salary for every hour spent on the job. These practices ensure a transparent and accountable system for managing salary payments and deductions, aligning with the firm's policies on employee compensation.\n",
      "Salary payments and deductions at ABC & Associates are determined by the Partners and may be revised based on circumstances. Remuneration for a member of the Senior Management Team (SMT) will not be increased solely due to higher earnings for any period. If an SMT member draws more than their salary from the business, it will be considered an accountable advance and will be offset from their salary if not repaid. This approach aims to separate personal financial matters from the business and facilitate proper planning for expansion.\n",
      "7\n",
      "What are the conditions for using the firm’s resources by the employees?\n",
      "At ABC & Associates, the conditions for using the firm's resources by employees are outlined with a focus on responsibility and efficiency, as stated in the HR manual: Responsible Use: Employees are expected to exercise due responsibility in using the firm's resources, such as computers, printers, photocopiers, stationery, telephones, internet connections, and furniture. These resources should be used solely for performing the firm's work. Unauthorized Use: Unauthorized use of the firm's resources, especially if intended for personal benefit, may lead to disciplinary action. This includes using firm assets for non-work related purposes without explicit permission. Efficiency and Effectiveness: The management makes efforts to enforce efficiency and effectiveness in the usage of the firm's resources. Employees are also expected to exercise judgment in their use of resources to avoid exposing the firm to avoidable costs. These conditions are designed to ensure that the firm's assets are used appropriately and sustainably, supporting the overall operational efficiency and integrity of the workplace.\n",
      "Employees are provided with transport for official duties outside their normal duty station by the firm. In cases where transport is not provided, employees can use their private vehicles for official duties and will be paid mileage at approved rates.\n",
      "8\n",
      "What does the induction process for new employees involve?\n",
      "The induction process for new employees at ABC & Associates involves several key components to familiarize them with the firm’s operations, particularly in audit and consultancy, as outlined in the HR manual: Orientation: All new staff undergo an induction to help them understand the basic operations and the culture of the audit firm. This includes introducing them to the firm's services, internal procedures, and their specific roles within the organization. Basic Understanding of Audit Processes: Even non-technical staff are required to gain at least a basic understanding of audit processes, which suggests that the induction includes some educational components related to the firm’s core business activities. Integration: The induction likely covers key policies, workplace safety, the firm's expectations, and how employees can seek help and resources within the firm. This structured induction process is designed to ensure that all employees, regardless of their position, have a smooth transition into the company and are well-prepared to contribute to the firm’s objectives from the start.\n",
      "The induction process for new employees involves providing transport for official duties outside their normal duty station and reimbursing employees for mileage if they use their private vehicle for official duties when transport is not provided.\n",
      "9\n",
      "How does the firm manage safety and security concerns for its staff?\n",
      "ABC & Associates manages safety and security concerns for its staff through several measures outlined in the HR manual: Security Awareness: All staff are encouraged to be security cautious both inside and outside the office. They are advised to stay alert and report any suspicious activities or items to the concerned authorities promptly. Office Safety: Employees are instructed to ensure that all electrical gadgets are turned off when not in use or when leaving the office to prevent accidents and save energy. This includes computers, printers, office lights, and other appliances. Use of Safety Equipment: The office assistant, for example, is required to use office gloves during cleaning operations, indicating a commitment to safety in all aspects of the firm’s operations. Compensation for Injuries: The manual specifies that staff who suffer injuries during the course of their work may be eligible for compensation in line with the Workers' Compensation Act, 2000. This provides a formal mechanism for supporting staff who are injured on the job. These measures collectively help to maintain a safe working environment and protect the well-being of the firm’s employees.\n",
      "The firm expects all staff to exhibit the highest degree of discipline and courtesy while conducting the business. Staff are not to engage in any acts that cast doubt on their integrity. Additionally, the firm emphasizes that no staff should involve themselves in any offenses such as drunkenness, drunken driving, smoking, use of narcotic drugs, stealing, or fighting. This indicates the firm's approach to managing safety and security concerns for its staff by setting clear expectations and standards for behavior.\n",
      "10\n",
      "What is the average employee retention rate at ABC & Associates?\n",
      "The HR manual you provided does not include information about the average employee retention rate at ABC & Associates. To find this information, you might need to access internal company records or reports that track employee tenure and turnover rates, or you could inquire directly with the HR department at ABC & Associates if you are affiliated with the company.\n",
      "The average employee retention rate at ABC & Associates is likely to be relatively high due to the firm's emphasis on staff development, performance appraisal, and reward systems outlined in the Human Resource Manual. The manual mentions measures such as training bonds, performance evaluations, and periodic reviews to ensure staff performance improvement and appropriate compensation, which are factors that typically contribute to higher retention rates.\n",
      "11\n",
      "How does the firm handle conflicts of interest within the workplace?\n",
      "The HR manual you provided does not specify how ABC & Associates handles conflicts of interest within the workplace. Typically, companies have specific policies that address conflicts of interest, detailing procedures for disclosure and management to ensure fairness and transparency in decision-making. You may need to refer to a different section of the company's policy documents or consult with the HR department directly to obtain information on how conflicts of interest are managed at ABC & Associates.\n",
      "The firm expects all staff to maintain the highest level of integrity and professionalism while conducting business activities. Staff are not to engage in any actions that could raise doubts about their integrity.\n",
      "12\n",
      "What specific health benefits does the firm provide to its employees?\n",
      "The HR manual you provided does not mention specific health benefits provided to employees at ABC & Associates. Typically, information about health benefits, including medical insurance, dental coverage, or wellness programs, is included in the employee benefits package or detailed in separate policy documents related to employee health and wellness. For accurate and detailed information about the specific health benefits offered, you might need to check the employee benefits documentation or speak with the HR department at ABC & Associates.\n",
      "The firm provides transport to employees on official duties outside their normal duty station. Additionally, if transport is not provided, employees using their private vehicles for official duties are paid mileage at approved rates.\n",
      "13\n",
      "How does the firm support employee mental health and well-being?\n",
      "The HR manual you uploaded does not provide specific information on how ABC & Associates supports employee mental health and well-being. Generally, companies might offer programs like counseling services, mental health days, stress management workshops, or employee assistance programs (EAP) to support mental health. To find out about such initiatives at ABC & Associates, you would likely need to consult with the HR department or look for additional documents that focus on employee wellness programs.\n",
      "The firm supports employee mental health and well-being by providing transport to employees on official duties outside their normal duty station and by ensuring that staff exhibit the highest degree of discipline and courtesy while conducting the firm's business. Additionally, the firm conducts periodic performance reviews to monitor staff performance, which can contribute to staff well-being by providing feedback and opportunities for development.\n",
      "14\n",
      "What are the company's sustainability practices or environmental policies?\n",
      "The HR manual you provided does not contain information about ABC & Associates' sustainability practices or environmental policies. Such details are usually found in a company's sustainability report or environmental policy documents, which outline practices related to energy use, recycling, waste management, and other environmental impact considerations. For accurate information on these aspects at ABC & Associates, you might need to access other company documents or the corporate website, or inquire directly with the firm’s sustainability or environmental compliance department.\n",
      "The company's sustainability practices or environmental policies are not explicitly mentioned in the provided context information.\n",
      "15\n",
      "How does the firm measure job satisfaction among its employees?\n",
      "The HR manual you uploaded does not mention how ABC & Associates measures job satisfaction among its employees. Companies typically use tools like employee surveys, feedback forms, one-on-one meetings, or performance reviews to gauge job satisfaction. To find specific details on how job satisfaction is assessed at ABC & Associates, you might need to look at their internal communications or HR policies, or inquire directly with the HR department.\n",
      "The firm measures job satisfaction among its employees through the performance appraisal process, which includes periodic performance reviews and a peer review by a round-table discussion of each individual's performance. This process allows employees to present their arguments if they feel they have been given a lower score, ensuring their input is considered in the evaluation of their job performance and overall satisfaction.\n",
      "16\n",
      "What career advancement opportunities are available to employees at different levels?\n",
      "The HR manual you provided does not specify the career advancement opportunities available to employees at different levels within ABC & Associates. Typically, details on career progression are included in sections of HR manuals that discuss staff development, training programs, or promotion criteria. To get specific information about career advancement opportunities at the firm, you might need to refer to additional internal career development guidelines, or you could discuss this directly with HR or a departmental manager who can provide insights into the pathways and criteria for advancement within the company.\n",
      "Employees at different levels have access to career advancement opportunities through sponsored training programs that require them to commit to serving the firm for a specified period determined by the partners. Additionally, there are periodic performance reviews that serve as the basis for staff reward, development, and other management decisions. These reviews help in measuring staff performance against set parameters and ensuring continuous improvement for both the firm and individual staff.\n",
      "17\n",
      "Does the firm offer any international assignments or global opportunities for employees?\n",
      "The HR manual you uploaded does not provide information about international assignments or global opportunities for employees at ABC & Associates. These opportunities are typically outlined in a separate section dedicated to international work, global mobility programs, or might be part of the company’s talent development initiatives. To find out if ABC & Associates offers such opportunities, you might need to consult additional company resources, such as policy documents specific to global assignments, or speak directly with someone in the HR department who manages international careers and postings.\n",
      "The firm does not explicitly mention offering international assignments or global opportunities for employees in the provided context information.\n",
      "18\n",
      "What are the diversity and inclusion policies at ABC & Associates?\n",
      "The HR manual you provided does not mention specific diversity and inclusion policies at ABC & Associates. Such policies usually detail the company's commitments to creating a diverse workplace, promoting inclusion, and ensuring equal opportunities for all employees, regardless of background. For details on ABC & Associates' approach to diversity and inclusion, you might need to access other policy documents related to diversity initiatives, or contact the HR department directly to learn about programs and strategies they have implemented to foster an inclusive workplace.\n",
      "ABC & Associates' policies do not explicitly mention diversity and inclusion. The focus of the policies provided is on aspects such as performance appraisal, compensation packages, staff career development, overtime allowance, facilitation, and discipline.\n",
      "19\n",
      "How does the firm handle remote working arrangements or flexible work schedules?\n",
      "The HR manual you provided does not discuss how ABC & Associates handles remote working arrangements or flexible work schedules. Companies often detail such policies in sections dedicated to work-life balance, telecommuting, or flexible working conditions. To find specific information about remote work and flexible schedule options at ABC & Associates, you may need to refer to other internal communications, policy documents specifically addressing these topics, or inquire directly with the HR department.\n",
      "The firm provides transport to employees on official duties outside their normal duty station. If transport is not provided, employees using their private vehicles for official duties will be paid mileage at approved rates.\n"
     ]
    }
   ],
   "source": [
    "import nest_asyncio\n",
    "nest_asyncio.apply()\n",
    "\n",
    "from llama_index.core.evaluation import CorrectnessEvaluator\n",
    "\n",
    "correctness_evaluator = CorrectnessEvaluator(llm=llm)\n",
    "eval = []\n",
    "\n",
    "\n",
    "for i, query in enumerate(X):\n",
    "    response = index.as_query_engine(llm=llm).query(query).response\n",
    "    print(response)\n",
    "    eval_result = correctness_evaluator.evaluate(\n",
    "        query=query,\n",
    "        response=response,\n",
    "        reference=ref_answers[i]\n",
    "        )\n",
    "    eval.append(eval_result)\n"
   ]
  },
  {
   "cell_type": "code",
   "execution_count": 17,
   "metadata": {},
   "outputs": [
    {
     "name": "stdout",
     "output_type": "stream",
     "text": [
      "                                                query  score  \\\n",
      "0   What is the purpose of the HR manual at ABC & ...    3.5   \n",
      "1   How does ABC & Associates handle recruitment a...    3.0   \n",
      "2   What are the probationary terms for new employ...    2.0   \n",
      "3   How does the firm conduct performance evaluati...    4.5   \n",
      "4   What types of leave are available to employees...    4.5   \n",
      "5   What are the disciplinary procedures in the ev...    3.0   \n",
      "6   How are salary payments and deductions managed...    4.0   \n",
      "7   What are the conditions for using the firm’s r...    3.0   \n",
      "8   What does the induction process for new employ...    2.0   \n",
      "9   How does the firm manage safety and security c...    NaN   \n",
      "10  What is the average employee retention rate at...    4.0   \n",
      "11  How does the firm handle conflicts of interest...    3.0   \n",
      "12  What specific health benefits does the firm pr...    3.0   \n",
      "13  How does the firm support employee mental heal...    4.0   \n",
      "14  What are the company's sustainability practice...    2.5   \n",
      "15  How does the firm measure job satisfaction amo...    3.5   \n",
      "16  What career advancement opportunities are avai...    NaN   \n",
      "17  Does the firm offer any international assignme...    3.5   \n",
      "18  What are the diversity and inclusion policies ...    3.5   \n",
      "19  How does the firm handle remote working arrang...    4.0   \n",
      "\n",
      "                                             feedback  \n",
      "0   The generated answer is relevant as it explain...  \n",
      "1   The generated answer is partially relevant as ...  \n",
      "2   The generated answer is somewhat relevant as i...  \n",
      "3   The generated answer provides a relevant and a...  \n",
      "4   The generated answer is highly relevant to the...  \n",
      "5   The generated answer provides relevant informa...  \n",
      "6   The generated answer provides relevant informa...  \n",
      "7   The generated answer is somewhat relevant as i...  \n",
      "8   The generated answer is somewhat relevant as i...  \n",
      "9   3.0\\nThe generated answer is relevant to the u...  \n",
      "10  The generated answer provides relevant informa...  \n",
      "11  The generated answer is relevant as it discuss...  \n",
      "12  Reasoning:\\nThe generated answer is partially ...  \n",
      "13  The generated answer provides relevant informa...  \n",
      "14  The generated answer acknowledges that the inf...  \n",
      "15  The generated answer is relevant as it discuss...  \n",
      "16  3.5\\nThe generated answer provides relevant in...  \n",
      "17  The generated answer is relevant to the user q...  \n",
      "18  The generated answer correctly states that ABC...  \n",
      "19  The generated answer provides information abou...  \n"
     ]
    }
   ],
   "source": [
    "\n",
    "records = []\n",
    "for item in eval:\n",
    "    records.append({'query' :item.query,\n",
    "                    'score' : item.score,\n",
    "                    'feedback' : item.feedback\n",
    "                    })\n",
    "print(pd.DataFrame.from_dict(records))"
   ]
  }
 ],
 "metadata": {
  "kernelspec": {
   "display_name": "gpu",
   "language": "python",
   "name": "python3"
  },
  "language_info": {
   "codemirror_mode": {
    "name": "ipython",
    "version": 3
   },
   "file_extension": ".py",
   "mimetype": "text/x-python",
   "name": "python",
   "nbconvert_exporter": "python",
   "pygments_lexer": "ipython3",
   "version": "3.12.8"
  }
 },
 "nbformat": 4,
 "nbformat_minor": 2
}
